{
 "cells": [
  {
   "cell_type": "code",
   "execution_count": 18,
   "id": "c3579ce8",
   "metadata": {},
   "outputs": [
    {
     "name": "stdout",
     "output_type": "stream",
     "text": [
      "Enter first number: 49\n",
      "Select the operator:\n",
      " + \n",
      " - \n",
      " * \n",
      " / \n",
      "/\n",
      "Enter second number: 7\n",
      "Result = 7.0\n"
     ]
    }
   ],
   "source": [
    "def calculator(): \n",
    "    first_number = input(\"Enter first number: \")\n",
    "\n",
    "    operand = input(\"Select the operator:\\n + \\n - \\n * \\n / \\n\")\n",
    "\n",
    "    second_number = input(\"Enter second number: \")\n",
    "\n",
    "    result = \"N/A\"\n",
    "    if operand == \"+\":\n",
    "        result = addition(first_number, second_number)\n",
    "        \n",
    "    elif operand == \"-\":\n",
    "        result = subtraction(first_number, second_number)\n",
    "        \n",
    "    elif operand == \"*\":\n",
    "        result = multiplication(first_number, second_number)\n",
    "        \n",
    "    elif operand == \"/\":\n",
    "        result = division(first_number, second_number)\n",
    "        \n",
    "    else:\n",
    "        print(\"invalid operation\")\n",
    "\n",
    "    print(\"Result = \" + str(result))\n",
    "    \n",
    "def addition(first_num, sec_num): \n",
    "    return int(first_num) + int(sec_num)\n",
    "\n",
    "def subtraction(first_num, sec_num):\n",
    "    return int(first_num) - int(sec_num)\n",
    "\n",
    "def multiplication(first_num, sec_num):\n",
    "    return int(first_num) * int(sec_num)\n",
    "\n",
    "def division(first_num, sec_num):\n",
    "    if sec_num == \"0\":\n",
    "        print(\"Cannot divide number by zero\")\n",
    "        return \"N/A\"\n",
    "    else:\n",
    "        return int(first_num) / int(sec_num)\n",
    "\n",
    "calculator()"
   ]
  },
  {
   "cell_type": "code",
   "execution_count": null,
   "id": "89f5046d",
   "metadata": {},
   "outputs": [],
   "source": []
  },
  {
   "cell_type": "code",
   "execution_count": null,
   "id": "9228c2d1",
   "metadata": {},
   "outputs": [],
   "source": []
  }
 ],
 "metadata": {
  "kernelspec": {
   "display_name": "Python 3 (ipykernel)",
   "language": "python",
   "name": "python3"
  },
  "language_info": {
   "codemirror_mode": {
    "name": "ipython",
    "version": 3
   },
   "file_extension": ".py",
   "mimetype": "text/x-python",
   "name": "python",
   "nbconvert_exporter": "python",
   "pygments_lexer": "ipython3",
   "version": "3.9.13"
  }
 },
 "nbformat": 4,
 "nbformat_minor": 5
}
